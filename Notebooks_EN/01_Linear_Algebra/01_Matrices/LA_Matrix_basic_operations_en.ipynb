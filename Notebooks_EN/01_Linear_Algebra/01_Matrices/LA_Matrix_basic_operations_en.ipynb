{
  "cells": [
    {
      "cell_type": "markdown",
      "metadata": {
        "id": "cciEyyH9S4zu"
      },
      "source": [
        "# Basic Matrix Operations\n",
        "\n",
        "### Matrix Addition\n",
        "\n",
        "Let $A=[a_{ij}]$ and $B=[b_{ij}]$ be two matrices of dimensions $m \\times n$. Then the sum of matrices $A$ and $B$ is the matrix $C=[c_{ij}]$ of dimensions $m \\times n$, where $c_{ij}=a_{ij}+b_{ij}$.\n",
        "\n",
        "### Matrix Scalar Multiplication\n",
        "\n",
        "Let $A=[a_{ij}]$ be a matrix of dimensions $m \\times n$, and let $k$ be a scalar. Then the product of matrix $A$ and scalar $k$ is the matrix $B=[b_{ij}]$ of dimensions $m \\times n$, where $b_{ij}=k \\cdot a_{ij}$.\n",
        "\n",
        "### Matrix Multiplication\n",
        "\n",
        "Let $A=[a_{ij}]$ be a matrix of dimensions $m \\times n$, and $B=[b_{ij}]$ be a matrix of dimensions $n \\times p$. Then the product of matrices $A$ and $B$ is the matrix $C=[c_{ij}]$ of dimensions $m \\times p$, where $c_{ij}=\\sum_{k=1}^{n} a_{ik} \\cdot b_{kj}$.\n",
        "\n",
        "\n",
        "### Example 1\n",
        "\n",
        "Let $A=\\begin{bmatrix} 1 & 2 \\\\ 3 & 4 \\end{bmatrix}$ and $B=\\begin{bmatrix} 5 & 6 \\\\ 7 & 8 \\end{bmatrix}$.\n",
        "Then the sum of matrices $A$ and $B$ is\n",
        "\n",
        "$$\n",
        "C=\n",
        "A+B=\\begin{bmatrix} 1+5 & 2+6 \\\\ 3+7 & 4+8 \\end{bmatrix}=\\begin{bmatrix} 6 & 8 \\\\ 10 & 12 \\end{bmatrix}.\n",
        "$$\n",
        "\n",
        "### Example 2\n",
        "\n",
        "Let $A=\\begin{bmatrix} 1 & 2 \\\\ 3 & 4 \\end{bmatrix}$ and $k=2$.\n",
        "\n",
        "Then the product of matrix $A$ and scalar $k$ is\n",
        "\n",
        "$$\n",
        "B=\n",
        "k \\cdot A=2 \\cdot \\begin{bmatrix} 1 & 2 \\\\ 3 & 4 \\end{bmatrix}=\\begin{bmatrix} 2*1 & 2*2 \\\\ 2*3 & 2*4 \\end{bmatrix}=\\begin{bmatrix} 2 & 4 \\\\ 6 & 8 \\end{bmatrix}.\n",
        "$$\n",
        "\n",
        "### Example 3\n",
        "\n",
        "Let\n",
        "$A=\\begin{bmatrix} 1 & 2 \\\\ 3 & 4 \\end{bmatrix}$\n",
        "and\n",
        "$B=\\begin{bmatrix} 5 & 6 \\\\ 7 & 8 \\end{bmatrix}$.\n",
        "\n",
        "Then the product of matrices $A$ and $B$ is\n",
        "\n",
        "$$\n",
        "C=\n",
        "A \\cdot B=\\begin{bmatrix} 1*5+2*7 & 1*6+2*8 \\\\ 3*5+4*7 & 3*6+4*8 \\end{bmatrix}=\\begin{bmatrix} 19 & 22 \\\\ 43 & 50 \\end{bmatrix}.\n",
        "$$"
      ]
    },
    {
      "cell_type": "code",
      "source": [],
      "metadata": {
        "id": "xFP0DmFlZMVa"
      },
      "execution_count": null,
      "outputs": []
    },
    {
      "cell_type": "markdown",
      "source": [],
      "metadata": {
        "id": "r-LvneoNZNYF"
      }
    },
    {
      "cell_type": "code",
      "execution_count": null,
      "metadata": {
        "id": "QsVIGuLLS4zv",
        "outputId": "30fff5a0-d7cd-426f-ccfa-cd067ca024f8",
        "colab": {
          "base_uri": "https://localhost:8080/",
          "height": 58
        }
      },
      "outputs": [
        {
          "output_type": "execute_result",
          "data": {
            "text/plain": [
              "Matrix([\n",
              "[1, 2],\n",
              "[3, 4]])"
            ],
            "text/latex": "$\\displaystyle \\left[\\begin{matrix}1 & 2\\\\3 & 4\\end{matrix}\\right]$"
          },
          "metadata": {},
          "execution_count": 1
        }
      ],
      "source": [
        "# Example 1: Matrix addition in sympy\n",
        "import sympy as sp\n",
        "\n",
        "A=sp.Matrix([[1,2],[3,4]])\n",
        "B=sp.Matrix([[5,6],[7,8]])\n",
        "A # display matrix A"
      ]
    },
    {
      "cell_type": "code",
      "execution_count": null,
      "metadata": {
        "id": "6kI3F7d6S4zv",
        "outputId": "4333001e-5b03-4d6c-fea0-a9980acb6dab",
        "colab": {
          "base_uri": "https://localhost:8080/",
          "height": 58
        }
      },
      "outputs": [
        {
          "output_type": "execute_result",
          "data": {
            "text/plain": [
              "Matrix([\n",
              "[5, 6],\n",
              "[7, 8]])"
            ],
            "text/latex": "$\\displaystyle \\left[\\begin{matrix}5 & 6\\\\7 & 8\\end{matrix}\\right]$"
          },
          "metadata": {},
          "execution_count": 2
        }
      ],
      "source": [
        "B # display matrix B"
      ]
    },
    {
      "cell_type": "code",
      "execution_count": null,
      "metadata": {
        "id": "Iflfk7DvS4zw"
      },
      "outputs": [],
      "source": [
        "sp.Matrix([[6,8],[10,12]])==A+B # verify matrix addition"
      ]
    },
    {
      "cell_type": "code",
      "execution_count": null,
      "metadata": {
        "id": "LcqAKtGsS4zw"
      },
      "outputs": [],
      "source": [
        "# Example 2: Scalar multiplication\n",
        "A=sp.Matrix([[1,2],[3,4]]) # define matrix A\n",
        "\n",
        "sp.Matrix([[2,4],[6,8]])==2*A # verify scalar multiplication"
      ]
    },
    {
      "cell_type": "code",
      "execution_count": null,
      "metadata": {
        "id": "xVxhXNxTS4zw"
      },
      "outputs": [],
      "source": [
        "# Example 3: Multiplication of two matrices\n",
        "\n",
        "A=sp.Matrix([[1,2],[3,4]]) # define matrix A\n",
        "B=sp.Matrix([[5,6],[7,8]]) # define matrix B\n",
        "\n",
        "sp.Matrix([[19,22],[43,50]])==A*B # verify matrix multiplication"
      ]
    },
    {
      "cell_type": "markdown",
      "metadata": {
        "id": "3oU-6zGUS4zw"
      },
      "source": [
        "### Necessary Condition for Matrix Multiplication\n",
        "\n",
        "Remember that matrices can have different numbers of rows and columns.\n",
        "\n",
        "To multiply two matrices $A_{m \\times n}$ and $B_{n \\times k}$, where $A$ has dimensions $m \\times n$ and $B$ has dimensions $n \\times k$, the number of columns of matrix $A$ must equal the number of rows of matrix $B$. Otherwise, matrix multiplication is not possible.\n",
        "\n",
        "$$\n",
        "A_{m \\times n} \\cdot B_{n \\times k} = C_{m \\times k}\n",
        "$$\n",
        "\n",
        "For example, if $A_{3 \\times 3}$ and $B_{3 \\times 3}$, then the resulting matrix $C_{3 \\times 3}$.\n",
        "\n",
        "<img src=\"https://www.mscroggs.co.uk/img/full/multiply_matrices.gif\" alt=\"Matrix Multiplication GIF\" width=\"400\">\n",
        "\n",
        "### Matrix Multiplication is Not Commutative\n",
        "\n",
        "Matrix multiplication is not commutative, i.e., in general $A \\cdot B \\neq B \\cdot A$."
      ]
    },
    {
      "cell_type": "code",
      "execution_count": null,
      "metadata": {
        "id": "42kxD3G1S4zw"
      },
      "outputs": [],
      "source": [
        "# Example of multiplying rectangular matrices\n",
        "import sympy as sp\n",
        "A=sp.Matrix([[1,2],[3,4],[5,6]]) # define matrix A_{3 x 2}\n",
        "B=sp.Matrix([[1,2,3],[4,5,6]]) # define matrix B_{2 x 3}\n",
        "C=sp.Matrix([[9,12,15],[19,26,33],[29,40,51]]) # define matrix C_{3 x 3}\n",
        "\n",
        "A*B # multiply matrices A and B to get a 3x3 matrix"
      ]
    },
    {
      "cell_type": "code",
      "execution_count": null,
      "metadata": {
        "id": "leskh4LiS4zw"
      },
      "outputs": [],
      "source": [
        "B*A # multiply matrices B and A to get a 2x2 matrix"
      ]
    },
    {
      "cell_type": "code",
      "execution_count": null,
      "metadata": {
        "id": "3xNR6S-AS4zw"
      },
      "outputs": [],
      "source": [
        "B*C # multiply matrices B and C to get a 2x3 matrix"
      ]
    },
    {
      "cell_type": "markdown",
      "metadata": {
        "id": "77lkikDRS4zx"
      },
      "source": [
        "---\n",
        "## Exercises for Students\n",
        "\n",
        "1. Calculate the sum of matrices $A=\\begin{bmatrix} 1 & 2 \\\\ 3 & 4 \\end{bmatrix}$ and $B=\\begin{bmatrix} 5 & 6 \\\\ 7 & 8 \\end{bmatrix}$.\n",
        "\n",
        "2. Calculate the product of matrix $A=\\begin{bmatrix} 4 & 2 \\\\ 12 & 4 \\end{bmatrix}$ and scalar $k=\\frac{1}{4}$.\n",
        "\n",
        "3. Calculate the products $A\\cdot B$ and $B \\cdot A$ for matrices $A=\\begin{bmatrix} 3 & 2 \\\\ 2 & 4 \\end{bmatrix}$ and $B=\\begin{bmatrix} 4 & 1 \\\\ 6 & 4 \\end{bmatrix}$."
      ]
    },
    {
      "cell_type": "markdown",
      "source": [
        "The matrices \\( A \\) and \\( B \\) are:\n",
        "\n",
        "$$\n",
        "A = \\begin{bmatrix}\n",
        "1 & 2 \\\\\n",
        "3 & 4\n",
        "\\end{bmatrix}, \\quad\n",
        "B = \\begin{bmatrix}\n",
        "5 & 6 \\\\\n",
        "7 & 8\n",
        "\\end{bmatrix}\n",
        "$$\n",
        "\n",
        "The sum of the matrices \\( A + B \\) is:\n",
        "\n",
        "$$\n",
        "A + B = \\begin{bmatrix}\n",
        "1+5 & 2+6 \\\\\n",
        "3+7 & 4+8\n",
        "\\end{bmatrix} = \\begin{bmatrix}\n",
        "6 & 8 \\\\\n",
        "10 & 12\n",
        "\\end{bmatrix}\n",
        "$$\n"
      ],
      "metadata": {
        "id": "OkA_lg3Uke3b"
      }
    },
    {
      "cell_type": "code",
      "source": [
        "import sympy as sp # Exercise 1\n",
        "\n",
        "# Define the matrices A and B\n",
        "A = sp.Matrix([[1, 2],\n",
        "               [3, 4]])\n",
        "\n",
        "B = sp.Matrix([[5, 6],\n",
        "               [7, 8]])\n",
        "\n",
        "# Calculate the sum of the matrices\n",
        "sum_matrix = A + B\n",
        "\n",
        "# Display the result\n",
        "sum_matrix\n"
      ],
      "metadata": {
        "id": "tfSDIqA9kta5",
        "outputId": "a140f3bf-4aa6-4e67-b6d5-8852e883733d",
        "colab": {
          "base_uri": "https://localhost:8080/",
          "height": 58
        }
      },
      "execution_count": 1,
      "outputs": [
        {
          "output_type": "execute_result",
          "data": {
            "text/plain": [
              "Matrix([\n",
              "[ 6,  8],\n",
              "[10, 12]])"
            ],
            "text/latex": "$\\displaystyle \\left[\\begin{matrix}6 & 8\\\\10 & 12\\end{matrix}\\right]$"
          },
          "metadata": {},
          "execution_count": 1
        }
      ]
    },
    {
      "cell_type": "code",
      "source": [
        "import sympy as sp\n",
        "A=sp.Matrix([[1,2],[3,4]])\n",
        "B=sp.Matrix([[5,6],[7,8]])\n",
        "C=sp.Matrix([[6,8],[10,12]])\n",
        "result = A+B==C"
      ],
      "metadata": {
        "id": "HST85pmwZP16"
      },
      "execution_count": null,
      "outputs": []
    },
    {
      "cell_type": "code",
      "source": [
        "C"
      ],
      "metadata": {
        "id": "XKfutd5kbEmM",
        "outputId": "126d9d6f-c65d-4bf6-b59d-b8e40cdc951d",
        "colab": {
          "base_uri": "https://localhost:8080/",
          "height": 58
        }
      },
      "execution_count": null,
      "outputs": [
        {
          "output_type": "execute_result",
          "data": {
            "text/plain": [
              "Matrix([\n",
              "[ 6,  8],\n",
              "[10, 12]])"
            ],
            "text/latex": "$\\displaystyle \\left[\\begin{matrix}6 & 8\\\\10 & 12\\end{matrix}\\right]$"
          },
          "metadata": {},
          "execution_count": 3
        }
      ]
    },
    {
      "cell_type": "code",
      "source": [
        "sp.Matrix([[6,8],[10,12]])==A+B"
      ],
      "metadata": {
        "id": "3Fh-BCxkbcei",
        "outputId": "e90f4a8a-434e-4869-8122-fe5d99c9defa",
        "colab": {
          "base_uri": "https://localhost:8080/"
        }
      },
      "execution_count": null,
      "outputs": [
        {
          "output_type": "execute_result",
          "data": {
            "text/plain": [
              "True"
            ]
          },
          "metadata": {},
          "execution_count": 36
        }
      ]
    },
    {
      "cell_type": "markdown",
      "source": [
        "The matrix \\( A \\) and the scalar \\( k \\) are:\n",
        "\n",
        "$$\n",
        "A = \\begin{bmatrix}\n",
        "4 & 2 \\\\\n",
        "12 & 4\n",
        "\\end{bmatrix}, \\quad\n",
        "k = \\frac{1}{4}\n",
        "$$\n",
        "\n",
        "The product of the matrix \\( A \\) and the scalar \\( k \\) is:\n",
        "\n",
        "$$\n",
        "k \\cdot A = \\frac{1}{4} \\cdot \\begin{bmatrix}\n",
        "4 & 2 \\\\\n",
        "12 & 4\n",
        "\\end{bmatrix} = \\begin{bmatrix}\n",
        "\\frac{1}{4} \\cdot 4 & \\frac{1}{4} \\cdot 2 \\\\\n",
        "\\frac{1}{4} \\cdot 12 & \\frac{1}{4} \\cdot 4\n",
        "\\end{bmatrix} = \\begin{bmatrix}\n",
        "1 & \\frac{1}{2} \\\\\n",
        "3 & 1\n",
        "\\end{bmatrix}\n",
        "$$\n"
      ],
      "metadata": {
        "id": "3ePt9y2ylLEF"
      }
    },
    {
      "cell_type": "code",
      "source": [
        "import sympy as sp # Exercise 2\n",
        "\n",
        "# Define the matrix A and the scalar k\n",
        "A = sp.Matrix([[4, 2],\n",
        "               [12, 4]])\n",
        "\n",
        "k = sp.Rational(1, 4)  # Define scalar k as 1/4\n",
        "\n",
        "# Calculate the product of the scalar k and matrix A\n",
        "product = k * A\n",
        "\n",
        "# Display the result\n",
        "product\n"
      ],
      "metadata": {
        "id": "U2oCIAD9lMit"
      },
      "execution_count": null,
      "outputs": []
    },
    {
      "cell_type": "code",
      "source": [
        "import numpy as np\n",
        "A=np.array([[4,2],[12,4]])\n",
        "k=1/4\n",
        "result=np.array([[1,0.5],[3,1]])==k*A\n",
        "comparison=result==k*A\n"
      ],
      "metadata": {
        "id": "_CjrMrz6cAd9"
      },
      "execution_count": null,
      "outputs": []
    },
    {
      "cell_type": "code",
      "source": [
        "import numpy as np\n",
        "A=np.array([[4,2],[12,4]])\n",
        "k=1/4\n",
        "np.array([[1,0.5],[3,1]])==k*A"
      ],
      "metadata": {
        "id": "LPYuWEiPhz7H",
        "outputId": "016738df-1418-4d13-afde-c65a5c79afb2",
        "colab": {
          "base_uri": "https://localhost:8080/"
        }
      },
      "execution_count": null,
      "outputs": [
        {
          "output_type": "execute_result",
          "data": {
            "text/plain": [
              "array([[ True,  True],\n",
              "       [ True,  True]])"
            ]
          },
          "metadata": {},
          "execution_count": 37
        }
      ]
    },
    {
      "cell_type": "code",
      "source": [
        "k*A"
      ],
      "metadata": {
        "id": "eHfc1Utki5-9",
        "outputId": "e268e528-4452-47f2-8f0f-e698f435e28a",
        "colab": {
          "base_uri": "https://localhost:8080/"
        }
      },
      "execution_count": null,
      "outputs": [
        {
          "output_type": "execute_result",
          "data": {
            "text/plain": [
              "array([[1. , 0.5],\n",
              "       [3. , 1. ]])"
            ]
          },
          "metadata": {},
          "execution_count": 38
        }
      ]
    },
    {
      "cell_type": "markdown",
      "source": [],
      "metadata": {
        "id": "Xoz1mDwrmyPL"
      }
    },
    {
      "cell_type": "markdown",
      "source": [
        "The matrices \\( A \\) and \\( B \\) are:\n",
        "\n",
        "$$\n",
        "A = \\begin{bmatrix}\n",
        "3 & 2 \\\\\n",
        "2 & 4\n",
        "\\end{bmatrix}, \\quad\n",
        "B = \\begin{bmatrix}\n",
        "4 & 1 \\\\\n",
        "6 & 4\n",
        "\\end{bmatrix}\n",
        "$$\n",
        "\n",
        "First, let's calculate the product \\( A \\cdot B \\):\n",
        "\n",
        "$$\n",
        "A \\cdot B = \\begin{bmatrix}\n",
        "3 & 2 \\\\\n",
        "2 & 4\n",
        "\\end{bmatrix} \\cdot \\begin{bmatrix}\n",
        "4 & 1 \\\\\n",
        "6 & 4\n",
        "\\end{bmatrix} = \\begin{bmatrix}\n",
        "3(4) + 2(6) & 3(1) + 2(4) \\\\\n",
        "2(4) + 4(6) & 2(1) + 4(4)\n",
        "\\end{bmatrix} = \\begin{bmatrix}\n",
        "12 + 12 & 3 + 8 \\\\\n",
        "8 + 24 & 2 + 16\n",
        "\\end{bmatrix} = \\begin{bmatrix}\n",
        "24 & 11 \\\\\n",
        "32 & 18\n",
        "\\end{bmatrix}\n",
        "$$\n",
        "\n",
        "Next, let's calculate the product \\( B \\cdot A \\):\n",
        "\n",
        "$$\n",
        "B \\cdot A = \\begin{bmatrix}\n",
        "4 & 1 \\\\\n",
        "6 & 4\n",
        "\\end{bmatrix} \\cdot \\begin{bmatrix}\n",
        "3 & 2 \\\\\n",
        "2 & 4\n",
        "\\end{bmatrix} = \\begin{bmatrix}\n",
        "4(3) + 1(2) & 4(2) + 1(4) \\\\\n",
        "6(3) + 4(2) & 6(2) + 4(4)\n",
        "\\end{bmatrix} = \\begin{bmatrix}\n",
        "12 + 2 & 8 + 4 \\\\\n",
        "18 + 8 & 12 + 16\n",
        "\\end{bmatrix} = \\begin{bmatrix}\n",
        "14 & 12 \\\\\n",
        "26 & 28\n",
        "\\end{bmatrix}\n",
        "$$\n",
        "\n"
      ],
      "metadata": {
        "id": "zqbuIDqCnAVs"
      }
    },
    {
      "cell_type": "code",
      "source": [
        "import sympy as sp # Exercise 3\n",
        "\n",
        "# Define the matrices A and B\n",
        "A = sp.Matrix([[3, 2],\n",
        "               [2, 4]])\n",
        "\n",
        "B = sp.Matrix([[4, 1],\n",
        "               [6, 4]])\n",
        "\n",
        "# Calculate the product A * B\n",
        "product_A_B = A * B\n",
        "\n",
        "# Calculate the product B * A\n",
        "product_B_A = B * A\n",
        "\n",
        "# Display the results\n",
        "product_A_B, product_B_A\n"
      ],
      "metadata": {
        "id": "exMvvcLvlxkb"
      },
      "execution_count": null,
      "outputs": []
    },
    {
      "cell_type": "code",
      "source": [
        "import sympy as sp\n",
        "A=sp.Matrix([[3,2],[2,4]])\n",
        "B=sp.Matrix([[4,1],[6,4]])\n",
        "sp.Matrix([[24,11],[32,18]])==A*B"
      ],
      "metadata": {
        "id": "iKdUip9Ljz9T",
        "outputId": "d92103f9-bab0-4cd7-9f81-8e6773709f59",
        "colab": {
          "base_uri": "https://localhost:8080/"
        }
      },
      "execution_count": null,
      "outputs": [
        {
          "output_type": "execute_result",
          "data": {
            "text/plain": [
              "True"
            ]
          },
          "metadata": {},
          "execution_count": 40
        }
      ]
    },
    {
      "cell_type": "code",
      "source": [
        "import sympy as sp\n",
        "B=sp.Matrix([[4,1],[6,4]])\n",
        "A=sp.Matrix([[3,2],[2,4]])\n",
        "sp.Matrix([[14,12],[26,28]])==B*A"
      ],
      "metadata": {
        "id": "_ahJ964q-FIq",
        "outputId": "d3012290-af95-486c-e6f8-3930584e6aed",
        "colab": {
          "base_uri": "https://localhost:8080/"
        }
      },
      "execution_count": null,
      "outputs": [
        {
          "output_type": "execute_result",
          "data": {
            "text/plain": [
              "True"
            ]
          },
          "metadata": {},
          "execution_count": 43
        }
      ]
    }
  ],
  "metadata": {
    "kernelspec": {
      "display_name": "Python 3",
      "language": "python",
      "name": "python3"
    },
    "language_info": {
      "name": "python",
      "version": "3.11.9"
    },
    "colab": {
      "provenance": []
    }
  },
  "nbformat": 4,
  "nbformat_minor": 0
}